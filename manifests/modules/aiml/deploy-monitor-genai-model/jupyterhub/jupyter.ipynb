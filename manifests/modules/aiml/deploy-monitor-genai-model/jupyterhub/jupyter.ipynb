{
 "cells": [
  {
   "cell_type": "code",
   "execution_count": null,
   "id": "54217ee5-4e5a-418f-a850-7a096183f85c",
   "metadata": {},
   "outputs": [],
   "source": [
    "# Verify NVIDIA GPU is visible\n",
    "!nvidia-smi"
   ]
  },
  {
   "cell_type": "code",
   "execution_count": null,
   "id": "4f2855eb-4cc0-42ca-b24e-79403344f82d",
   "metadata": {},
   "outputs": [],
   "source": [
    "import os\n",
    "os.chdir(\"/home/jovyan\")"
   ]
  },
  {
   "cell_type": "code",
   "execution_count": null,
   "id": "8526f6cf-d94e-4ef6-a870-b5cf2b7b3bbd",
   "metadata": {},
   "outputs": [],
   "source": [
    "# Clone the diffusers repo\n",
    "!git clone https://github.com/huggingface/diffusers"
   ]
  },
  {
   "cell_type": "code",
   "execution_count": null,
   "id": "146c939b-9f67-4f9b-ab0a-d56f579ef574",
   "metadata": {},
   "outputs": [],
   "source": [
    "# Change the directory\n",
    "os.chdir(\"diffusers\")"
   ]
  },
  {
   "cell_type": "code",
   "execution_count": null,
   "id": "d3114141-0dfe-4521-8f74-10210e307ade",
   "metadata": {},
   "outputs": [],
   "source": [
    "# Install requirements\n",
    "! pip install -e .\n",
    "! pip install xformers==0.0.16 diffusers[torch]"
   ]
  },
  {
   "cell_type": "code",
   "execution_count": null,
   "id": "40923ba1-5e9c-452a-9375-82e87e986c8a",
   "metadata": {},
   "outputs": [],
   "source": [
    "# Fix for bitsandbytes https://github.com/TimDettmers/bitsandbytes/blob/main/how_to_use_nonpytorch_cuda.md\n",
    "! wget https://raw.githubusercontent.com/TimDettmers/bitsandbytes/main/install_cuda.sh\n",
    "! bash install_cuda.sh 117 ~/local 1"
   ]
  },
  {
   "cell_type": "code",
   "execution_count": null,
   "id": "b355fa8f-e2cb-4ef4-bce2-64739daef7db",
   "metadata": {},
   "outputs": [],
   "source": [
    "# Install bitsandbytes for optimizations\n",
    "! pip install bitsandbytes==0.41.0"
   ]
  },
  {
   "cell_type": "code",
   "execution_count": null,
   "id": "871f97d8-ffeb-4b3d-8f69-ef8590ca3c16",
   "metadata": {},
   "outputs": [],
   "source": [
    "# Use the newly installed CUDA version for bitsandbytes\n",
    "os.environ[\"BNB_CUDA_VERSION\"] = \"117\"\n",
    "os.environ[\"LD_LIBRARY_PATH\"] = os.getenv(\"LD_LIBRARY_PATH\") + \":/home/jovyan/local/cuda-11.7\""
   ]
  },
  {
   "cell_type": "code",
   "execution_count": null,
   "id": "0271afa3-1149-47f2-8269-3c28913659db",
   "metadata": {},
   "outputs": [],
   "source": [
    "# Validate successful install of bitsandbytes\n",
    "! python -m bitsandbytes"
   ]
  },
  {
   "cell_type": "code",
   "execution_count": null,
   "id": "263054f2-aeae-4efb-8143-6e58a59581e8",
   "metadata": {},
   "outputs": [],
   "source": [
    "# Install requirements for dreambooth\n",
    "os.chdir(\"examples/dreambooth\")\n",
    "! pip install -r requirements.txt"
   ]
  },
  {
   "cell_type": "code",
   "execution_count": null,
   "id": "815e74fa-24a5-47c7-8b4f-63cba3fc1fc9",
   "metadata": {},
   "outputs": [],
   "source": [
    "# Setup default configuration for accelerate\n",
    "! accelerate config default"
   ]
  },
  {
   "cell_type": "code",
   "execution_count": null,
   "id": "0d67262c-8c11-4f32-951c-d4a05347b94a",
   "metadata": {},
   "outputs": [],
   "source": [
    "# Login to huggingface associated with your account (please create one if it doesn't exist)\n",
    "! huggingface-cli login --token <Your Hugging face token>"
   ]
  },
  {
   "cell_type": "code",
   "execution_count": null,
   "id": "7aa7aecf-98c5-43b9-adce-5ffbe697dbfa",
   "metadata": {},
   "outputs": [],
   "source": [
    "# Download sample dataset of the subject. See the sample images here https://huggingface.co/datasets/diffusers/dog-example\n",
    "from huggingface_hub import snapshot_download\n",
    "local_dir = \"./dog\"\n",
    "snapshot_download(\n",
    "    \"diffusers/dog-example\",\n",
    "    local_dir=local_dir, repo_type=\"dataset\",\n",
    "    ignore_patterns=\".gitattributes\",\n",
    ")"
   ]
  },
  {
   "cell_type": "code",
   "execution_count": null,
   "id": "712c8d7b-c316-411c-b7b8-e3d20db87a9b",
   "metadata": {},
   "outputs": [],
   "source": [
    "# Export environment variables to provide input model, dataset directory and output directory for the tuned model\n",
    "os.environ[\"MODEL_NAME\"] = \"stabilityai/stable-diffusion-2-1\"\n",
    "os.environ[\"INSTANCE_DIR\"] = \"dog\"\n",
    "os.environ[\"OUTPUT_DIR\"] = \"dogbooth\"\n",
    "os.environ[\"RESOLUTION\"] = \"768\"\n",
    "os.environ[\"PYTORCH_CUDA_ALLOC_CONF\"] = \"garbage_collection_threshold:0.6,max_split_size_mb:128\""
   ]
  },
  {
   "cell_type": "code",
   "execution_count": null,
   "id": "ef9da088-63ba-4e0b-9537-abb1bdacd6c2",
   "metadata": {},
   "outputs": [],
   "source": [
    "# Launch the training and push the output model to huggingface\n",
    "! accelerate launch train_dreambooth.py \\\n",
    "  --pretrained_model_name_or_path=$MODEL_NAME  \\\n",
    "  --instance_data_dir=$INSTANCE_DIR \\\n",
    "  --output_dir=$OUTPUT_DIR \\\n",
    "  --instance_prompt=\"a photo of [v]dog\" \\\n",
    "  --resolution=768 \\\n",
    "  --train_batch_size=1 \\\n",
    "  --gradient_accumulation_steps=1 \\\n",
    "  --gradient_checkpointing \\\n",
    "  --learning_rate=1e-6 \\\n",
    "  --lr_scheduler=\"constant\" \\\n",
    "  --enable_xformers_memory_efficient_attention \\\n",
    "  --use_8bit_adam \\\n",
    "  --lr_warmup_steps=0 \\\n",
    "  --max_train_steps=800 \\\n",
    "  --push_to_hub\n",
    "\n"
   ]
  }
 ],
 "metadata": {
  "kernelspec": {
   "display_name": "Python 3 (ipykernel)",
   "language": "python",
   "name": "python3"
  },
  "language_info": {
   "codemirror_mode": {
    "name": "ipython",
    "version": 3
   },
   "file_extension": ".py",
   "mimetype": "text/x-python",
   "name": "python",
   "nbconvert_exporter": "python",
   "pygments_lexer": "ipython3",
   "version": "3.10.10"
  }
 },
 "nbformat": 4,
 "nbformat_minor": 5
}
